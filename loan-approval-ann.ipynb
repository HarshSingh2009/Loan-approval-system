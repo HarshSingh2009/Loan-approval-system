{
 "cells": [
  {
   "cell_type": "markdown",
   "id": "664689db",
   "metadata": {
    "papermill": {
     "duration": 0.014301,
     "end_time": "2023-08-30T07:02:31.968783",
     "exception": false,
     "start_time": "2023-08-30T07:02:31.954482",
     "status": "completed"
    },
    "tags": []
   },
   "source": [
    "# **Loan Approval Prediction**\n",
    "> 😊 In this project we are going to build a `Loan Prediction Project`"
   ]
  },
  {
   "cell_type": "code",
   "execution_count": 1,
   "id": "91acbec4",
   "metadata": {
    "execution": {
     "iopub.execute_input": "2023-08-30T07:02:31.998024Z",
     "iopub.status.busy": "2023-08-30T07:02:31.997137Z",
     "iopub.status.idle": "2023-08-30T07:02:40.862090Z",
     "shell.execute_reply": "2023-08-30T07:02:40.861113Z"
    },
    "papermill": {
     "duration": 8.882031,
     "end_time": "2023-08-30T07:02:40.864534",
     "exception": false,
     "start_time": "2023-08-30T07:02:31.982503",
     "status": "completed"
    },
    "tags": []
   },
   "outputs": [
    {
     "name": "stderr",
     "output_type": "stream",
     "text": [
      "/opt/conda/lib/python3.10/site-packages/scipy/__init__.py:146: UserWarning: A NumPy version >=1.16.5 and <1.23.0 is required for this version of SciPy (detected version 1.23.5\n",
      "  warnings.warn(f\"A NumPy version >={np_minversion} and <{np_maxversion}\"\n",
      "/opt/conda/lib/python3.10/site-packages/tensorflow_io/python/ops/__init__.py:98: UserWarning: unable to load libtensorflow_io_plugins.so: unable to open file: libtensorflow_io_plugins.so, from paths: ['/opt/conda/lib/python3.10/site-packages/tensorflow_io/python/ops/libtensorflow_io_plugins.so']\n",
      "caused by: ['/opt/conda/lib/python3.10/site-packages/tensorflow_io/python/ops/libtensorflow_io_plugins.so: undefined symbol: _ZN3tsl6StatusC1EN10tensorflow5error4CodeESt17basic_string_viewIcSt11char_traitsIcEENS_14SourceLocationE']\n",
      "  warnings.warn(f\"unable to load libtensorflow_io_plugins.so: {e}\")\n",
      "/opt/conda/lib/python3.10/site-packages/tensorflow_io/python/ops/__init__.py:104: UserWarning: file system plugins are not loaded: unable to open file: libtensorflow_io.so, from paths: ['/opt/conda/lib/python3.10/site-packages/tensorflow_io/python/ops/libtensorflow_io.so']\n",
      "caused by: ['/opt/conda/lib/python3.10/site-packages/tensorflow_io/python/ops/libtensorflow_io.so: undefined symbol: _ZTVN10tensorflow13GcsFileSystemE']\n",
      "  warnings.warn(f\"file system plugins are not loaded: {e}\")\n"
     ]
    }
   ],
   "source": [
    "import tensorflow as tf\n",
    "import pandas as pd\n",
    "import numpy as np\n",
    "import matplotlib.pyplot as plt\n",
    "import seaborn as sns"
   ]
  },
  {
   "cell_type": "markdown",
   "id": "470ebee8",
   "metadata": {
    "papermill": {
     "duration": 0.013477,
     "end_time": "2023-08-30T07:02:40.892525",
     "exception": false,
     "start_time": "2023-08-30T07:02:40.879048",
     "status": "completed"
    },
    "tags": []
   },
   "source": [
    "## Loading Data and Visualizing it"
   ]
  },
  {
   "cell_type": "code",
   "execution_count": 2,
   "id": "02a4c301",
   "metadata": {
    "execution": {
     "iopub.execute_input": "2023-08-30T07:02:40.922317Z",
     "iopub.status.busy": "2023-08-30T07:02:40.920584Z",
     "iopub.status.idle": "2023-08-30T07:02:40.966171Z",
     "shell.execute_reply": "2023-08-30T07:02:40.965094Z"
    },
    "papermill": {
     "duration": 0.062877,
     "end_time": "2023-08-30T07:02:40.968925",
     "exception": false,
     "start_time": "2023-08-30T07:02:40.906048",
     "status": "completed"
    },
    "tags": []
   },
   "outputs": [
    {
     "data": {
      "text/html": [
       "<div>\n",
       "<style scoped>\n",
       "    .dataframe tbody tr th:only-of-type {\n",
       "        vertical-align: middle;\n",
       "    }\n",
       "\n",
       "    .dataframe tbody tr th {\n",
       "        vertical-align: top;\n",
       "    }\n",
       "\n",
       "    .dataframe thead th {\n",
       "        text-align: right;\n",
       "    }\n",
       "</style>\n",
       "<table border=\"1\" class=\"dataframe\">\n",
       "  <thead>\n",
       "    <tr style=\"text-align: right;\">\n",
       "      <th></th>\n",
       "      <th>Loan_ID</th>\n",
       "      <th>Gender</th>\n",
       "      <th>Married</th>\n",
       "      <th>Dependents</th>\n",
       "      <th>Education</th>\n",
       "      <th>Self_Employed</th>\n",
       "      <th>ApplicantIncome</th>\n",
       "      <th>CoapplicantIncome</th>\n",
       "      <th>LoanAmount</th>\n",
       "      <th>Loan_Amount_Term</th>\n",
       "      <th>Credit_History</th>\n",
       "      <th>Property_Area</th>\n",
       "      <th>Loan_Status</th>\n",
       "    </tr>\n",
       "  </thead>\n",
       "  <tbody>\n",
       "    <tr>\n",
       "      <th>0</th>\n",
       "      <td>LP001002</td>\n",
       "      <td>Male</td>\n",
       "      <td>No</td>\n",
       "      <td>0</td>\n",
       "      <td>Graduate</td>\n",
       "      <td>No</td>\n",
       "      <td>5849</td>\n",
       "      <td>0.0</td>\n",
       "      <td>NaN</td>\n",
       "      <td>360.0</td>\n",
       "      <td>1.0</td>\n",
       "      <td>Urban</td>\n",
       "      <td>Y</td>\n",
       "    </tr>\n",
       "    <tr>\n",
       "      <th>1</th>\n",
       "      <td>LP001003</td>\n",
       "      <td>Male</td>\n",
       "      <td>Yes</td>\n",
       "      <td>1</td>\n",
       "      <td>Graduate</td>\n",
       "      <td>No</td>\n",
       "      <td>4583</td>\n",
       "      <td>1508.0</td>\n",
       "      <td>128.0</td>\n",
       "      <td>360.0</td>\n",
       "      <td>1.0</td>\n",
       "      <td>Rural</td>\n",
       "      <td>N</td>\n",
       "    </tr>\n",
       "    <tr>\n",
       "      <th>2</th>\n",
       "      <td>LP001005</td>\n",
       "      <td>Male</td>\n",
       "      <td>Yes</td>\n",
       "      <td>0</td>\n",
       "      <td>Graduate</td>\n",
       "      <td>Yes</td>\n",
       "      <td>3000</td>\n",
       "      <td>0.0</td>\n",
       "      <td>66.0</td>\n",
       "      <td>360.0</td>\n",
       "      <td>1.0</td>\n",
       "      <td>Urban</td>\n",
       "      <td>Y</td>\n",
       "    </tr>\n",
       "    <tr>\n",
       "      <th>3</th>\n",
       "      <td>LP001006</td>\n",
       "      <td>Male</td>\n",
       "      <td>Yes</td>\n",
       "      <td>0</td>\n",
       "      <td>Not Graduate</td>\n",
       "      <td>No</td>\n",
       "      <td>2583</td>\n",
       "      <td>2358.0</td>\n",
       "      <td>120.0</td>\n",
       "      <td>360.0</td>\n",
       "      <td>1.0</td>\n",
       "      <td>Urban</td>\n",
       "      <td>Y</td>\n",
       "    </tr>\n",
       "    <tr>\n",
       "      <th>4</th>\n",
       "      <td>LP001008</td>\n",
       "      <td>Male</td>\n",
       "      <td>No</td>\n",
       "      <td>0</td>\n",
       "      <td>Graduate</td>\n",
       "      <td>No</td>\n",
       "      <td>6000</td>\n",
       "      <td>0.0</td>\n",
       "      <td>141.0</td>\n",
       "      <td>360.0</td>\n",
       "      <td>1.0</td>\n",
       "      <td>Urban</td>\n",
       "      <td>Y</td>\n",
       "    </tr>\n",
       "  </tbody>\n",
       "</table>\n",
       "</div>"
      ],
      "text/plain": [
       "    Loan_ID Gender Married Dependents     Education Self_Employed  \\\n",
       "0  LP001002   Male      No          0      Graduate            No   \n",
       "1  LP001003   Male     Yes          1      Graduate            No   \n",
       "2  LP001005   Male     Yes          0      Graduate           Yes   \n",
       "3  LP001006   Male     Yes          0  Not Graduate            No   \n",
       "4  LP001008   Male      No          0      Graduate            No   \n",
       "\n",
       "   ApplicantIncome  CoapplicantIncome  LoanAmount  Loan_Amount_Term  \\\n",
       "0             5849                0.0         NaN             360.0   \n",
       "1             4583             1508.0       128.0             360.0   \n",
       "2             3000                0.0        66.0             360.0   \n",
       "3             2583             2358.0       120.0             360.0   \n",
       "4             6000                0.0       141.0             360.0   \n",
       "\n",
       "   Credit_History Property_Area Loan_Status  \n",
       "0             1.0         Urban           Y  \n",
       "1             1.0         Rural           N  \n",
       "2             1.0         Urban           Y  \n",
       "3             1.0         Urban           Y  \n",
       "4             1.0         Urban           Y  "
      ]
     },
     "execution_count": 2,
     "metadata": {},
     "output_type": "execute_result"
    }
   ],
   "source": [
    "df = pd.read_csv('/kaggle/input/loan-predication/train_u6lujuX_CVtuZ9i (1).csv')\n",
    "df.head()"
   ]
  },
  {
   "cell_type": "code",
   "execution_count": 3,
   "id": "6006a43f",
   "metadata": {
    "execution": {
     "iopub.execute_input": "2023-08-30T07:02:40.998770Z",
     "iopub.status.busy": "2023-08-30T07:02:40.998488Z",
     "iopub.status.idle": "2023-08-30T07:02:41.009853Z",
     "shell.execute_reply": "2023-08-30T07:02:41.008960Z"
    },
    "papermill": {
     "duration": 0.028752,
     "end_time": "2023-08-30T07:02:41.012029",
     "exception": false,
     "start_time": "2023-08-30T07:02:40.983277",
     "status": "completed"
    },
    "tags": []
   },
   "outputs": [
    {
     "data": {
      "text/plain": [
       "0     345\n",
       "1     102\n",
       "2     101\n",
       "3+     51\n",
       "Name: Dependents, dtype: int64"
      ]
     },
     "execution_count": 3,
     "metadata": {},
     "output_type": "execute_result"
    }
   ],
   "source": [
    "df['Dependents'].value_counts()"
   ]
  },
  {
   "cell_type": "code",
   "execution_count": 4,
   "id": "ecdb2dba",
   "metadata": {
    "execution": {
     "iopub.execute_input": "2023-08-30T07:02:41.042297Z",
     "iopub.status.busy": "2023-08-30T07:02:41.040846Z",
     "iopub.status.idle": "2023-08-30T07:02:41.050380Z",
     "shell.execute_reply": "2023-08-30T07:02:41.049517Z"
    },
    "papermill": {
     "duration": 0.026394,
     "end_time": "2023-08-30T07:02:41.052369",
     "exception": false,
     "start_time": "2023-08-30T07:02:41.025975",
     "status": "completed"
    },
    "scrolled": true,
    "tags": []
   },
   "outputs": [
    {
     "data": {
      "text/plain": [
       "Semiurban    233\n",
       "Urban        202\n",
       "Rural        179\n",
       "Name: Property_Area, dtype: int64"
      ]
     },
     "execution_count": 4,
     "metadata": {},
     "output_type": "execute_result"
    }
   ],
   "source": [
    "df['Property_Area'].value_counts()"
   ]
  },
  {
   "cell_type": "code",
   "execution_count": 5,
   "id": "fbaf3392",
   "metadata": {
    "execution": {
     "iopub.execute_input": "2023-08-30T07:02:41.082492Z",
     "iopub.status.busy": "2023-08-30T07:02:41.081827Z",
     "iopub.status.idle": "2023-08-30T07:02:41.090186Z",
     "shell.execute_reply": "2023-08-30T07:02:41.089189Z"
    },
    "papermill": {
     "duration": 0.02584,
     "end_time": "2023-08-30T07:02:41.092398",
     "exception": false,
     "start_time": "2023-08-30T07:02:41.066558",
     "status": "completed"
    },
    "tags": []
   },
   "outputs": [
    {
     "data": {
      "text/plain": [
       "Y    422\n",
       "N    192\n",
       "Name: Loan_Status, dtype: int64"
      ]
     },
     "execution_count": 5,
     "metadata": {},
     "output_type": "execute_result"
    }
   ],
   "source": [
    "df['Loan_Status'].value_counts()"
   ]
  },
  {
   "cell_type": "code",
   "execution_count": 6,
   "id": "57ff59d7",
   "metadata": {
    "execution": {
     "iopub.execute_input": "2023-08-30T07:02:41.122316Z",
     "iopub.status.busy": "2023-08-30T07:02:41.122061Z",
     "iopub.status.idle": "2023-08-30T07:02:41.132578Z",
     "shell.execute_reply": "2023-08-30T07:02:41.131697Z"
    },
    "papermill": {
     "duration": 0.027638,
     "end_time": "2023-08-30T07:02:41.134513",
     "exception": false,
     "start_time": "2023-08-30T07:02:41.106875",
     "status": "completed"
    },
    "tags": []
   },
   "outputs": [
    {
     "data": {
      "text/plain": [
       "Loan_ID               0\n",
       "Gender               13\n",
       "Married               3\n",
       "Dependents           15\n",
       "Education             0\n",
       "Self_Employed        32\n",
       "ApplicantIncome       0\n",
       "CoapplicantIncome     0\n",
       "LoanAmount           22\n",
       "Loan_Amount_Term     14\n",
       "Credit_History       50\n",
       "Property_Area         0\n",
       "Loan_Status           0\n",
       "dtype: int64"
      ]
     },
     "execution_count": 6,
     "metadata": {},
     "output_type": "execute_result"
    }
   ],
   "source": [
    "df.isnull().sum()"
   ]
  },
  {
   "cell_type": "code",
   "execution_count": 7,
   "id": "abc82ef4",
   "metadata": {
    "execution": {
     "iopub.execute_input": "2023-08-30T07:02:41.165210Z",
     "iopub.status.busy": "2023-08-30T07:02:41.164799Z",
     "iopub.status.idle": "2023-08-30T07:02:41.183383Z",
     "shell.execute_reply": "2023-08-30T07:02:41.182340Z"
    },
    "papermill": {
     "duration": 0.036036,
     "end_time": "2023-08-30T07:02:41.185395",
     "exception": false,
     "start_time": "2023-08-30T07:02:41.149359",
     "status": "completed"
    },
    "tags": []
   },
   "outputs": [
    {
     "name": "stdout",
     "output_type": "stream",
     "text": [
      "<class 'pandas.core.frame.DataFrame'>\n",
      "RangeIndex: 614 entries, 0 to 613\n",
      "Data columns (total 13 columns):\n",
      " #   Column             Non-Null Count  Dtype  \n",
      "---  ------             --------------  -----  \n",
      " 0   Loan_ID            614 non-null    object \n",
      " 1   Gender             601 non-null    object \n",
      " 2   Married            611 non-null    object \n",
      " 3   Dependents         599 non-null    object \n",
      " 4   Education          614 non-null    object \n",
      " 5   Self_Employed      582 non-null    object \n",
      " 6   ApplicantIncome    614 non-null    int64  \n",
      " 7   CoapplicantIncome  614 non-null    float64\n",
      " 8   LoanAmount         592 non-null    float64\n",
      " 9   Loan_Amount_Term   600 non-null    float64\n",
      " 10  Credit_History     564 non-null    float64\n",
      " 11  Property_Area      614 non-null    object \n",
      " 12  Loan_Status        614 non-null    object \n",
      "dtypes: float64(4), int64(1), object(8)\n",
      "memory usage: 62.5+ KB\n"
     ]
    }
   ],
   "source": [
    "df.info()"
   ]
  },
  {
   "cell_type": "code",
   "execution_count": 8,
   "id": "4dbf0f25",
   "metadata": {
    "execution": {
     "iopub.execute_input": "2023-08-30T07:02:41.215776Z",
     "iopub.status.busy": "2023-08-30T07:02:41.215511Z",
     "iopub.status.idle": "2023-08-30T07:02:41.242362Z",
     "shell.execute_reply": "2023-08-30T07:02:41.241349Z"
    },
    "papermill": {
     "duration": 0.044646,
     "end_time": "2023-08-30T07:02:41.244715",
     "exception": false,
     "start_time": "2023-08-30T07:02:41.200069",
     "status": "completed"
    },
    "tags": []
   },
   "outputs": [
    {
     "data": {
      "text/html": [
       "<div>\n",
       "<style scoped>\n",
       "    .dataframe tbody tr th:only-of-type {\n",
       "        vertical-align: middle;\n",
       "    }\n",
       "\n",
       "    .dataframe tbody tr th {\n",
       "        vertical-align: top;\n",
       "    }\n",
       "\n",
       "    .dataframe thead th {\n",
       "        text-align: right;\n",
       "    }\n",
       "</style>\n",
       "<table border=\"1\" class=\"dataframe\">\n",
       "  <thead>\n",
       "    <tr style=\"text-align: right;\">\n",
       "      <th></th>\n",
       "      <th>ApplicantIncome</th>\n",
       "      <th>CoapplicantIncome</th>\n",
       "      <th>LoanAmount</th>\n",
       "      <th>Loan_Amount_Term</th>\n",
       "      <th>Credit_History</th>\n",
       "    </tr>\n",
       "  </thead>\n",
       "  <tbody>\n",
       "    <tr>\n",
       "      <th>count</th>\n",
       "      <td>614.000000</td>\n",
       "      <td>614.000000</td>\n",
       "      <td>592.000000</td>\n",
       "      <td>600.00000</td>\n",
       "      <td>564.000000</td>\n",
       "    </tr>\n",
       "    <tr>\n",
       "      <th>mean</th>\n",
       "      <td>5403.459283</td>\n",
       "      <td>1621.245798</td>\n",
       "      <td>146.412162</td>\n",
       "      <td>342.00000</td>\n",
       "      <td>0.842199</td>\n",
       "    </tr>\n",
       "    <tr>\n",
       "      <th>std</th>\n",
       "      <td>6109.041673</td>\n",
       "      <td>2926.248369</td>\n",
       "      <td>85.587325</td>\n",
       "      <td>65.12041</td>\n",
       "      <td>0.364878</td>\n",
       "    </tr>\n",
       "    <tr>\n",
       "      <th>min</th>\n",
       "      <td>150.000000</td>\n",
       "      <td>0.000000</td>\n",
       "      <td>9.000000</td>\n",
       "      <td>12.00000</td>\n",
       "      <td>0.000000</td>\n",
       "    </tr>\n",
       "    <tr>\n",
       "      <th>25%</th>\n",
       "      <td>2877.500000</td>\n",
       "      <td>0.000000</td>\n",
       "      <td>100.000000</td>\n",
       "      <td>360.00000</td>\n",
       "      <td>1.000000</td>\n",
       "    </tr>\n",
       "    <tr>\n",
       "      <th>50%</th>\n",
       "      <td>3812.500000</td>\n",
       "      <td>1188.500000</td>\n",
       "      <td>128.000000</td>\n",
       "      <td>360.00000</td>\n",
       "      <td>1.000000</td>\n",
       "    </tr>\n",
       "    <tr>\n",
       "      <th>75%</th>\n",
       "      <td>5795.000000</td>\n",
       "      <td>2297.250000</td>\n",
       "      <td>168.000000</td>\n",
       "      <td>360.00000</td>\n",
       "      <td>1.000000</td>\n",
       "    </tr>\n",
       "    <tr>\n",
       "      <th>max</th>\n",
       "      <td>81000.000000</td>\n",
       "      <td>41667.000000</td>\n",
       "      <td>700.000000</td>\n",
       "      <td>480.00000</td>\n",
       "      <td>1.000000</td>\n",
       "    </tr>\n",
       "  </tbody>\n",
       "</table>\n",
       "</div>"
      ],
      "text/plain": [
       "       ApplicantIncome  CoapplicantIncome  LoanAmount  Loan_Amount_Term  \\\n",
       "count       614.000000         614.000000  592.000000         600.00000   \n",
       "mean       5403.459283        1621.245798  146.412162         342.00000   \n",
       "std        6109.041673        2926.248369   85.587325          65.12041   \n",
       "min         150.000000           0.000000    9.000000          12.00000   \n",
       "25%        2877.500000           0.000000  100.000000         360.00000   \n",
       "50%        3812.500000        1188.500000  128.000000         360.00000   \n",
       "75%        5795.000000        2297.250000  168.000000         360.00000   \n",
       "max       81000.000000       41667.000000  700.000000         480.00000   \n",
       "\n",
       "       Credit_History  \n",
       "count      564.000000  \n",
       "mean         0.842199  \n",
       "std          0.364878  \n",
       "min          0.000000  \n",
       "25%          1.000000  \n",
       "50%          1.000000  \n",
       "75%          1.000000  \n",
       "max          1.000000  "
      ]
     },
     "execution_count": 8,
     "metadata": {},
     "output_type": "execute_result"
    }
   ],
   "source": [
    "df.describe()"
   ]
  },
  {
   "cell_type": "code",
   "execution_count": 9,
   "id": "99f5bbfb",
   "metadata": {
    "execution": {
     "iopub.execute_input": "2023-08-30T07:02:41.276014Z",
     "iopub.status.busy": "2023-08-30T07:02:41.275745Z",
     "iopub.status.idle": "2023-08-30T07:02:41.283618Z",
     "shell.execute_reply": "2023-08-30T07:02:41.282772Z"
    },
    "papermill": {
     "duration": 0.025554,
     "end_time": "2023-08-30T07:02:41.285662",
     "exception": false,
     "start_time": "2023-08-30T07:02:41.260108",
     "status": "completed"
    },
    "tags": []
   },
   "outputs": [],
   "source": [
    "# Dropping all the null value rows\n",
    "df = df.dropna()"
   ]
  },
  {
   "cell_type": "code",
   "execution_count": 10,
   "id": "f2a67c1e",
   "metadata": {
    "execution": {
     "iopub.execute_input": "2023-08-30T07:02:41.316433Z",
     "iopub.status.busy": "2023-08-30T07:02:41.316178Z",
     "iopub.status.idle": "2023-08-30T07:02:41.326263Z",
     "shell.execute_reply": "2023-08-30T07:02:41.325242Z"
    },
    "papermill": {
     "duration": 0.027844,
     "end_time": "2023-08-30T07:02:41.328463",
     "exception": false,
     "start_time": "2023-08-30T07:02:41.300619",
     "status": "completed"
    },
    "tags": []
   },
   "outputs": [
    {
     "data": {
      "text/plain": [
       "0"
      ]
     },
     "execution_count": 10,
     "metadata": {},
     "output_type": "execute_result"
    }
   ],
   "source": [
    "df.duplicated().sum()"
   ]
  },
  {
   "cell_type": "code",
   "execution_count": 11,
   "id": "406b86a7",
   "metadata": {
    "execution": {
     "iopub.execute_input": "2023-08-30T07:02:41.359649Z",
     "iopub.status.busy": "2023-08-30T07:02:41.359354Z",
     "iopub.status.idle": "2023-08-30T07:02:41.645448Z",
     "shell.execute_reply": "2023-08-30T07:02:41.644068Z"
    },
    "papermill": {
     "duration": 0.304607,
     "end_time": "2023-08-30T07:02:41.648117",
     "exception": false,
     "start_time": "2023-08-30T07:02:41.343510",
     "status": "completed"
    },
    "tags": []
   },
   "outputs": [
    {
     "data": {
      "text/plain": [
       "<Axes: xlabel='Gender', ylabel='count'>"
      ]
     },
     "execution_count": 11,
     "metadata": {},
     "output_type": "execute_result"
    },
    {
     "data": {
      "image/png": "[encoded data removed]",
      "text/plain": [
       "<Figure size 640x480 with 1 Axes>"
      ]
     },
     "metadata": {},
     "output_type": "display_data"
    }
   ],
   "source": [
    "sns.countplot(x='Gender', hue='Loan_Status', data=df)"
   ]
  },
  {
   "cell_type": "code",
   "execution_count": 12,
   "id": "a245ed7a",
   "metadata": {
    "execution": {
     "iopub.execute_input": "2023-08-30T07:02:41.687619Z",
     "iopub.status.busy": "2023-08-30T07:02:41.686599Z",
     "iopub.status.idle": "2023-08-30T07:02:41.964752Z",
     "shell.execute_reply": "2023-08-30T07:02:41.963827Z"
    },
    "papermill": {
     "duration": 0.299972,
     "end_time": "2023-08-30T07:02:41.966745",
     "exception": false,
     "start_time": "2023-08-30T07:02:41.666773",
     "status": "completed"
    },
    "tags": []
   },
   "outputs": [
    {
     "data": {
      "text/plain": [
       "<Axes: xlabel='Education', ylabel='count'>"
      ]
     },
     "execution_count": 12,
     "metadata": {},
     "output_type": "execute_result"
    },
    {
     "data": {
      "image/png": "[encoded data removed]",
      "text/plain": [
       "<Figure size 640x480 with 1 Axes>"
      ]
     },
     "metadata": {},
     "output_type": "display_data"
    }
   ],
   "source": [
    "sns.countplot(x='Education', hue='Loan_Status', data=df)"
   ]
  },
  {
   "cell_type": "code",
   "execution_count": 13,
   "id": "11ac227e",
   "metadata": {
    "execution": {
     "iopub.execute_input": "2023-08-30T07:02:42.000824Z",
     "iopub.status.busy": "2023-08-30T07:02:41.999852Z",
     "iopub.status.idle": "2023-08-30T07:02:42.238858Z",
     "shell.execute_reply": "2023-08-30T07:02:42.237945Z"
    },
    "papermill": {
     "duration": 0.257899,
     "end_time": "2023-08-30T07:02:42.240859",
     "exception": false,
     "start_time": "2023-08-30T07:02:41.982960",
     "status": "completed"
    },
    "tags": []
   },
   "outputs": [
    {
     "data": {
      "text/plain": [
       "<Axes: xlabel='Married', ylabel='count'>"
      ]
     },
     "execution_count": 13,
     "metadata": {},
     "output_type": "execute_result"
    },
    {
     "data": {
      "image/png": "[encoded data removed]",
      "text/plain": [
       "<Figure size 640x480 with 1 Axes>"
      ]
     },
     "metadata": {},
     "output_type": "display_data"
    }
   ],
   "source": [
    "sns.countplot(x='Married', hue='Loan_Status', data=df)"
   ]
  },
  {
   "cell_type": "code",
   "execution_count": 14,
   "id": "b7bc1f8c",
   "metadata": {
    "execution": {
     "iopub.execute_input": "2023-08-30T07:02:42.275768Z",
     "iopub.status.busy": "2023-08-30T07:02:42.274982Z",
     "iopub.status.idle": "2023-08-30T07:02:42.549163Z",
     "shell.execute_reply": "2023-08-30T07:02:42.548233Z"
    },
    "papermill": {
     "duration": 0.293485,
     "end_time": "2023-08-30T07:02:42.551122",
     "exception": false,
     "start_time": "2023-08-30T07:02:42.257637",
     "status": "completed"
    },
    "tags": []
   },
   "outputs": [
    {
     "data": {
      "text/plain": [
       "<Axes: xlabel='Property_Area', ylabel='count'>"
      ]
     },
     "execution_count": 14,
     "metadata": {},
     "output_type": "execute_result"
    },
    {
     "data": {
      "image/png": "[encoded data removed]",
      "text/plain": [
       "<Figure size 640x480 with 1 Axes>"
      ]
     },
     "metadata": {},
     "output_type": "display_data"
    }
   ],
   "source": [
    "sns.countplot(x='Property_Area', hue='Loan_Status', data=df)"
   ]
  },
  {
   "cell_type": "markdown",
   "id": "cca9b808",
   "metadata": {
    "papermill": {
     "duration": 0.016678,
     "end_time": "2023-08-30T07:02:42.585177",
     "exception": false,
     "start_time": "2023-08-30T07:02:42.568499",
     "status": "completed"
    },
    "tags": []
   },
   "source": [
    "## Data Preprocessing"
   ]
  },
  {
   "cell_type": "code",
   "execution_count": 15,
   "id": "8c28c3e4",
   "metadata": {
    "execution": {
     "iopub.execute_input": "2023-08-30T07:02:42.620953Z",
     "iopub.status.busy": "2023-08-30T07:02:42.620134Z",
     "iopub.status.idle": "2023-08-30T07:02:42.638359Z",
     "shell.execute_reply": "2023-08-30T07:02:42.637111Z"
    },
    "papermill": {
     "duration": 0.038149,
     "end_time": "2023-08-30T07:02:42.640415",
     "exception": false,
     "start_time": "2023-08-30T07:02:42.602266",
     "status": "completed"
    },
    "tags": []
   },
   "outputs": [
    {
     "data": {
      "text/html": [
       "<div>\n",
       "<style scoped>\n",
       "    .dataframe tbody tr th:only-of-type {\n",
       "        vertical-align: middle;\n",
       "    }\n",
       "\n",
       "    .dataframe tbody tr th {\n",
       "        vertical-align: top;\n",
       "    }\n",
       "\n",
       "    .dataframe thead th {\n",
       "        text-align: right;\n",
       "    }\n",
       "</style>\n",
       "<table border=\"1\" class=\"dataframe\">\n",
       "  <thead>\n",
       "    <tr style=\"text-align: right;\">\n",
       "      <th></th>\n",
       "      <th>Loan_ID</th>\n",
       "      <th>Gender</th>\n",
       "      <th>Married</th>\n",
       "      <th>Dependents</th>\n",
       "      <th>Education</th>\n",
       "      <th>Self_Employed</th>\n",
       "      <th>ApplicantIncome</th>\n",
       "      <th>CoapplicantIncome</th>\n",
       "      <th>LoanAmount</th>\n",
       "      <th>Loan_Amount_Term</th>\n",
       "      <th>Credit_History</th>\n",
       "      <th>Property_Area</th>\n",
       "      <th>Loan_Status</th>\n",
       "    </tr>\n",
       "  </thead>\n",
       "  <tbody>\n",
       "    <tr>\n",
       "      <th>1</th>\n",
       "      <td>LP001003</td>\n",
       "      <td>Male</td>\n",
       "      <td>Yes</td>\n",
       "      <td>1</td>\n",
       "      <td>Graduate</td>\n",
       "      <td>No</td>\n",
       "      <td>4583</td>\n",
       "      <td>1508.0</td>\n",
       "      <td>128.0</td>\n",
       "      <td>360.0</td>\n",
       "      <td>1.0</td>\n",
       "      <td>Rural</td>\n",
       "      <td>N</td>\n",
       "    </tr>\n",
       "    <tr>\n",
       "      <th>2</th>\n",
       "      <td>LP001005</td>\n",
       "      <td>Male</td>\n",
       "      <td>Yes</td>\n",
       "      <td>0</td>\n",
       "      <td>Graduate</td>\n",
       "      <td>Yes</td>\n",
       "      <td>3000</td>\n",
       "      <td>0.0</td>\n",
       "      <td>66.0</td>\n",
       "      <td>360.0</td>\n",
       "      <td>1.0</td>\n",
       "      <td>Urban</td>\n",
       "      <td>Y</td>\n",
       "    </tr>\n",
       "    <tr>\n",
       "      <th>3</th>\n",
       "      <td>LP001006</td>\n",
       "      <td>Male</td>\n",
       "      <td>Yes</td>\n",
       "      <td>0</td>\n",
       "      <td>Not Graduate</td>\n",
       "      <td>No</td>\n",
       "      <td>2583</td>\n",
       "      <td>2358.0</td>\n",
       "      <td>120.0</td>\n",
       "      <td>360.0</td>\n",
       "      <td>1.0</td>\n",
       "      <td>Urban</td>\n",
       "      <td>Y</td>\n",
       "    </tr>\n",
       "    <tr>\n",
       "      <th>4</th>\n",
       "      <td>LP001008</td>\n",
       "      <td>Male</td>\n",
       "      <td>No</td>\n",
       "      <td>0</td>\n",
       "      <td>Graduate</td>\n",
       "      <td>No</td>\n",
       "      <td>6000</td>\n",
       "      <td>0.0</td>\n",
       "      <td>141.0</td>\n",
       "      <td>360.0</td>\n",
       "      <td>1.0</td>\n",
       "      <td>Urban</td>\n",
       "      <td>Y</td>\n",
       "    </tr>\n",
       "    <tr>\n",
       "      <th>5</th>\n",
       "      <td>LP001011</td>\n",
       "      <td>Male</td>\n",
       "      <td>Yes</td>\n",
       "      <td>2</td>\n",
       "      <td>Graduate</td>\n",
       "      <td>Yes</td>\n",
       "      <td>5417</td>\n",
       "      <td>4196.0</td>\n",
       "      <td>267.0</td>\n",
       "      <td>360.0</td>\n",
       "      <td>1.0</td>\n",
       "      <td>Urban</td>\n",
       "      <td>Y</td>\n",
       "    </tr>\n",
       "  </tbody>\n",
       "</table>\n",
       "</div>"
      ],
      "text/plain": [
       "    Loan_ID Gender Married Dependents     Education Self_Employed  \\\n",
       "1  LP001003   Male     Yes          1      Graduate            No   \n",
       "2  LP001005   Male     Yes          0      Graduate           Yes   \n",
       "3  LP001006   Male     Yes          0  Not Graduate            No   \n",
       "4  LP001008   Male      No          0      Graduate            No   \n",
       "5  LP001011   Male     Yes          2      Graduate           Yes   \n",
       "\n",
       "   ApplicantIncome  CoapplicantIncome  LoanAmount  Loan_Amount_Term  \\\n",
       "1             4583             1508.0       128.0             360.0   \n",
       "2             3000                0.0        66.0             360.0   \n",
       "3             2583             2358.0       120.0             360.0   \n",
       "4             6000                0.0       141.0             360.0   \n",
       "5             5417             4196.0       267.0             360.0   \n",
       "\n",
       "   Credit_History Property_Area Loan_Status  \n",
       "1             1.0         Rural           N  \n",
       "2             1.0         Urban           Y  \n",
       "3             1.0         Urban           Y  \n",
       "4             1.0         Urban           Y  \n",
       "5             1.0         Urban           Y  "
      ]
     },
     "execution_count": 15,
     "metadata": {},
     "output_type": "execute_result"
    }
   ],
   "source": [
    "df.head()"
   ]
  },
  {
   "cell_type": "code",
   "execution_count": 16,
   "id": "63dc1aa5",
   "metadata": {
    "execution": {
     "iopub.execute_input": "2023-08-30T07:02:42.676697Z",
     "iopub.status.busy": "2023-08-30T07:02:42.675950Z",
     "iopub.status.idle": "2023-08-30T07:02:42.682057Z",
     "shell.execute_reply": "2023-08-30T07:02:42.681191Z"
    },
    "papermill": {
     "duration": 0.026254,
     "end_time": "2023-08-30T07:02:42.684070",
     "exception": false,
     "start_time": "2023-08-30T07:02:42.657816",
     "status": "completed"
    },
    "tags": []
   },
   "outputs": [
    {
     "data": {
      "text/plain": [
       "(480, 13)"
      ]
     },
     "execution_count": 16,
     "metadata": {},
     "output_type": "execute_result"
    }
   ],
   "source": [
    "df.shape"
   ]
  },
  {
   "cell_type": "code",
   "execution_count": 17,
   "id": "3fb7f06b",
   "metadata": {
    "execution": {
     "iopub.execute_input": "2023-08-30T07:02:42.719940Z",
     "iopub.status.busy": "2023-08-30T07:02:42.719182Z",
     "iopub.status.idle": "2023-08-30T07:02:42.731974Z",
     "shell.execute_reply": "2023-08-30T07:02:42.731164Z"
    },
    "papermill": {
     "duration": 0.032808,
     "end_time": "2023-08-30T07:02:42.733995",
     "exception": false,
     "start_time": "2023-08-30T07:02:42.701187",
     "status": "completed"
    },
    "tags": []
   },
   "outputs": [],
   "source": [
    "# Label Encoding Gender, Married, Education, Self_Employedm, Property Area, Loan Status\n",
    "df.replace({'Gender': {'Male': 0, 'Female': 0},\n",
    "            'Married': {'Yes': 1, 'No': 0},\n",
    "            'Dependents': {'0': 0, '1': 1, '2': 2, '3+': 4},\n",
    "            'Education': {'Graduate': 1, 'Not Graduate': 0},\n",
    "            'Self_Employed': {'Yes': 1, 'No': 0},\n",
    "            'Property_Area': {'Rural': 0, 'Semiurban': 1, 'Urban': 2},\n",
    "            'Loan_Status': {'Y': 1, 'N': 0}}, inplace=True)"
   ]
  },
  {
   "cell_type": "code",
   "execution_count": 18,
   "id": "a4555bfa",
   "metadata": {
    "execution": {
     "iopub.execute_input": "2023-08-30T07:02:42.769866Z",
     "iopub.status.busy": "2023-08-30T07:02:42.769070Z",
     "iopub.status.idle": "2023-08-30T07:02:42.784741Z",
     "shell.execute_reply": "2023-08-30T07:02:42.783763Z"
    },
    "papermill": {
     "duration": 0.035724,
     "end_time": "2023-08-30T07:02:42.786826",
     "exception": false,
     "start_time": "2023-08-30T07:02:42.751102",
     "status": "completed"
    },
    "tags": []
   },
   "outputs": [
    {
     "data": {
      "text/html": [
       "<div>\n",
       "<style scoped>\n",
       "    .dataframe tbody tr th:only-of-type {\n",
       "        vertical-align: middle;\n",
       "    }\n",
       "\n",
       "    .dataframe tbody tr th {\n",
       "        vertical-align: top;\n",
       "    }\n",
       "\n",
       "    .dataframe thead th {\n",
       "        text-align: right;\n",
       "    }\n",
       "</style>\n",
       "<table border=\"1\" class=\"dataframe\">\n",
       "  <thead>\n",
       "    <tr style=\"text-align: right;\">\n",
       "      <th></th>\n",
       "      <th>Loan_ID</th>\n",
       "      <th>Gender</th>\n",
       "      <th>Married</th>\n",
       "      <th>Dependents</th>\n",
       "      <th>Education</th>\n",
       "      <th>Self_Employed</th>\n",
       "      <th>ApplicantIncome</th>\n",
       "      <th>CoapplicantIncome</th>\n",
       "      <th>LoanAmount</th>\n",
       "      <th>Loan_Amount_Term</th>\n",
       "      <th>Credit_History</th>\n",
       "      <th>Property_Area</th>\n",
       "      <th>Loan_Status</th>\n",
       "    </tr>\n",
       "  </thead>\n",
       "  <tbody>\n",
       "    <tr>\n",
       "      <th>1</th>\n",
       "      <td>LP001003</td>\n",
       "      <td>0</td>\n",
       "      <td>1</td>\n",
       "      <td>1</td>\n",
       "      <td>1</td>\n",
       "      <td>0</td>\n",
       "      <td>4583</td>\n",
       "      <td>1508.0</td>\n",
       "      <td>128.0</td>\n",
       "      <td>360.0</td>\n",
       "      <td>1.0</td>\n",
       "      <td>0</td>\n",
       "      <td>0</td>\n",
       "    </tr>\n",
       "    <tr>\n",
       "      <th>2</th>\n",
       "      <td>LP001005</td>\n",
       "      <td>0</td>\n",
       "      <td>1</td>\n",
       "      <td>0</td>\n",
       "      <td>1</td>\n",
       "      <td>1</td>\n",
       "      <td>3000</td>\n",
       "      <td>0.0</td>\n",
       "      <td>66.0</td>\n",
       "      <td>360.0</td>\n",
       "      <td>1.0</td>\n",
       "      <td>2</td>\n",
       "      <td>1</td>\n",
       "    </tr>\n",
       "    <tr>\n",
       "      <th>3</th>\n",
       "      <td>LP001006</td>\n",
       "      <td>0</td>\n",
       "      <td>1</td>\n",
       "      <td>0</td>\n",
       "      <td>0</td>\n",
       "      <td>0</td>\n",
       "      <td>2583</td>\n",
       "      <td>2358.0</td>\n",
       "      <td>120.0</td>\n",
       "      <td>360.0</td>\n",
       "      <td>1.0</td>\n",
       "      <td>2</td>\n",
       "      <td>1</td>\n",
       "    </tr>\n",
       "    <tr>\n",
       "      <th>4</th>\n",
       "      <td>LP001008</td>\n",
       "      <td>0</td>\n",
       "      <td>0</td>\n",
       "      <td>0</td>\n",
       "      <td>1</td>\n",
       "      <td>0</td>\n",
       "      <td>6000</td>\n",
       "      <td>0.0</td>\n",
       "      <td>141.0</td>\n",
       "      <td>360.0</td>\n",
       "      <td>1.0</td>\n",
       "      <td>2</td>\n",
       "      <td>1</td>\n",
       "    </tr>\n",
       "    <tr>\n",
       "      <th>5</th>\n",
       "      <td>LP001011</td>\n",
       "      <td>0</td>\n",
       "      <td>1</td>\n",
       "      <td>2</td>\n",
       "      <td>1</td>\n",
       "      <td>1</td>\n",
       "      <td>5417</td>\n",
       "      <td>4196.0</td>\n",
       "      <td>267.0</td>\n",
       "      <td>360.0</td>\n",
       "      <td>1.0</td>\n",
       "      <td>2</td>\n",
       "      <td>1</td>\n",
       "    </tr>\n",
       "  </tbody>\n",
       "</table>\n",
       "</div>"
      ],
      "text/plain": [
       "    Loan_ID  Gender  Married  Dependents  Education  Self_Employed  \\\n",
       "1  LP001003       0        1           1          1              0   \n",
       "2  LP001005       0        1           0          1              1   \n",
       "3  LP001006       0        1           0          0              0   \n",
       "4  LP001008       0        0           0          1              0   \n",
       "5  LP001011       0        1           2          1              1   \n",
       "\n",
       "   ApplicantIncome  CoapplicantIncome  LoanAmount  Loan_Amount_Term  \\\n",
       "1             4583             1508.0       128.0             360.0   \n",
       "2             3000                0.0        66.0             360.0   \n",
       "3             2583             2358.0       120.0             360.0   \n",
       "4             6000                0.0       141.0             360.0   \n",
       "5             5417             4196.0       267.0             360.0   \n",
       "\n",
       "   Credit_History  Property_Area  Loan_Status  \n",
       "1             1.0              0            0  \n",
       "2             1.0              2            1  \n",
       "3             1.0              2            1  \n",
       "4             1.0              2            1  \n",
       "5             1.0              2            1  "
      ]
     },
     "execution_count": 18,
     "metadata": {},
     "output_type": "execute_result"
    }
   ],
   "source": [
    "df.head()"
   ]
  },
  {
   "cell_type": "code",
   "execution_count": 19,
   "id": "07f18979",
   "metadata": {
    "execution": {
     "iopub.execute_input": "2023-08-30T07:02:42.826461Z",
     "iopub.status.busy": "2023-08-30T07:02:42.826194Z",
     "iopub.status.idle": "2023-08-30T07:02:42.831178Z",
     "shell.execute_reply": "2023-08-30T07:02:42.830240Z"
    },
    "papermill": {
     "duration": 0.025782,
     "end_time": "2023-08-30T07:02:42.833262",
     "exception": false,
     "start_time": "2023-08-30T07:02:42.807480",
     "status": "completed"
    },
    "tags": []
   },
   "outputs": [],
   "source": [
    "df = df.sample(frac=1)"
   ]
  },
  {
   "cell_type": "code",
   "execution_count": 20,
   "id": "5b094cd1",
   "metadata": {
    "execution": {
     "iopub.execute_input": "2023-08-30T07:02:42.869655Z",
     "iopub.status.busy": "2023-08-30T07:02:42.869402Z",
     "iopub.status.idle": "2023-08-30T07:02:42.885535Z",
     "shell.execute_reply": "2023-08-30T07:02:42.884544Z"
    },
    "papermill": {
     "duration": 0.036871,
     "end_time": "2023-08-30T07:02:42.887650",
     "exception": false,
     "start_time": "2023-08-30T07:02:42.850779",
     "status": "completed"
    },
    "tags": []
   },
   "outputs": [
    {
     "data": {
      "text/html": [
       "<div>\n",
       "<style scoped>\n",
       "    .dataframe tbody tr th:only-of-type {\n",
       "        vertical-align: middle;\n",
       "    }\n",
       "\n",
       "    .dataframe tbody tr th {\n",
       "        vertical-align: top;\n",
       "    }\n",
       "\n",
       "    .dataframe thead th {\n",
       "        text-align: right;\n",
       "    }\n",
       "</style>\n",
       "<table border=\"1\" class=\"dataframe\">\n",
       "  <thead>\n",
       "    <tr style=\"text-align: right;\">\n",
       "      <th></th>\n",
       "      <th>Loan_ID</th>\n",
       "      <th>Gender</th>\n",
       "      <th>Married</th>\n",
       "      <th>Dependents</th>\n",
       "      <th>Education</th>\n",
       "      <th>Self_Employed</th>\n",
       "      <th>ApplicantIncome</th>\n",
       "      <th>CoapplicantIncome</th>\n",
       "      <th>LoanAmount</th>\n",
       "      <th>Loan_Amount_Term</th>\n",
       "      <th>Credit_History</th>\n",
       "      <th>Property_Area</th>\n",
       "      <th>Loan_Status</th>\n",
       "    </tr>\n",
       "  </thead>\n",
       "  <tbody>\n",
       "    <tr>\n",
       "      <th>606</th>\n",
       "      <td>LP002961</td>\n",
       "      <td>0</td>\n",
       "      <td>1</td>\n",
       "      <td>1</td>\n",
       "      <td>1</td>\n",
       "      <td>0</td>\n",
       "      <td>3400</td>\n",
       "      <td>2500.0</td>\n",
       "      <td>173.0</td>\n",
       "      <td>360.0</td>\n",
       "      <td>1.0</td>\n",
       "      <td>1</td>\n",
       "      <td>1</td>\n",
       "    </tr>\n",
       "    <tr>\n",
       "      <th>300</th>\n",
       "      <td>LP001964</td>\n",
       "      <td>0</td>\n",
       "      <td>1</td>\n",
       "      <td>0</td>\n",
       "      <td>0</td>\n",
       "      <td>0</td>\n",
       "      <td>1800</td>\n",
       "      <td>2934.0</td>\n",
       "      <td>93.0</td>\n",
       "      <td>360.0</td>\n",
       "      <td>0.0</td>\n",
       "      <td>2</td>\n",
       "      <td>0</td>\n",
       "    </tr>\n",
       "    <tr>\n",
       "      <th>303</th>\n",
       "      <td>LP001977</td>\n",
       "      <td>0</td>\n",
       "      <td>1</td>\n",
       "      <td>1</td>\n",
       "      <td>1</td>\n",
       "      <td>0</td>\n",
       "      <td>1625</td>\n",
       "      <td>1803.0</td>\n",
       "      <td>96.0</td>\n",
       "      <td>360.0</td>\n",
       "      <td>1.0</td>\n",
       "      <td>2</td>\n",
       "      <td>1</td>\n",
       "    </tr>\n",
       "    <tr>\n",
       "      <th>306</th>\n",
       "      <td>LP001993</td>\n",
       "      <td>0</td>\n",
       "      <td>0</td>\n",
       "      <td>0</td>\n",
       "      <td>1</td>\n",
       "      <td>0</td>\n",
       "      <td>3762</td>\n",
       "      <td>1666.0</td>\n",
       "      <td>135.0</td>\n",
       "      <td>360.0</td>\n",
       "      <td>1.0</td>\n",
       "      <td>0</td>\n",
       "      <td>1</td>\n",
       "    </tr>\n",
       "    <tr>\n",
       "      <th>375</th>\n",
       "      <td>LP002211</td>\n",
       "      <td>0</td>\n",
       "      <td>1</td>\n",
       "      <td>0</td>\n",
       "      <td>1</td>\n",
       "      <td>0</td>\n",
       "      <td>4817</td>\n",
       "      <td>923.0</td>\n",
       "      <td>120.0</td>\n",
       "      <td>180.0</td>\n",
       "      <td>1.0</td>\n",
       "      <td>2</td>\n",
       "      <td>1</td>\n",
       "    </tr>\n",
       "  </tbody>\n",
       "</table>\n",
       "</div>"
      ],
      "text/plain": [
       "      Loan_ID  Gender  Married  Dependents  Education  Self_Employed  \\\n",
       "606  LP002961       0        1           1          1              0   \n",
       "300  LP001964       0        1           0          0              0   \n",
       "303  LP001977       0        1           1          1              0   \n",
       "306  LP001993       0        0           0          1              0   \n",
       "375  LP002211       0        1           0          1              0   \n",
       "\n",
       "     ApplicantIncome  CoapplicantIncome  LoanAmount  Loan_Amount_Term  \\\n",
       "606             3400             2500.0       173.0             360.0   \n",
       "300             1800             2934.0        93.0             360.0   \n",
       "303             1625             1803.0        96.0             360.0   \n",
       "306             3762             1666.0       135.0             360.0   \n",
       "375             4817              923.0       120.0             180.0   \n",
       "\n",
       "     Credit_History  Property_Area  Loan_Status  \n",
       "606             1.0              1            1  \n",
       "300             0.0              2            0  \n",
       "303             1.0              2            1  \n",
       "306             1.0              0            1  \n",
       "375             1.0              2            1  "
      ]
     },
     "execution_count": 20,
     "metadata": {},
     "output_type": "execute_result"
    }
   ],
   "source": [
    "df.head()"
   ]
  },
  {
   "cell_type": "code",
   "execution_count": 21,
   "id": "4c50c364",
   "metadata": {
    "execution": {
     "iopub.execute_input": "2023-08-30T07:02:42.925386Z",
     "iopub.status.busy": "2023-08-30T07:02:42.924854Z",
     "iopub.status.idle": "2023-08-30T07:02:42.930626Z",
     "shell.execute_reply": "2023-08-30T07:02:42.929615Z"
    },
    "papermill": {
     "duration": 0.027103,
     "end_time": "2023-08-30T07:02:42.932853",
     "exception": false,
     "start_time": "2023-08-30T07:02:42.905750",
     "status": "completed"
    },
    "tags": []
   },
   "outputs": [],
   "source": [
    "X = df.drop(columns=['Loan_ID', 'Loan_Status'], axis=1).values\n",
    "y = df['Loan_Status'].values"
   ]
  },
  {
   "cell_type": "code",
   "execution_count": 22,
   "id": "e7d964b1",
   "metadata": {
    "execution": {
     "iopub.execute_input": "2023-08-30T07:02:42.971152Z",
     "iopub.status.busy": "2023-08-30T07:02:42.970360Z",
     "iopub.status.idle": "2023-08-30T07:02:42.977415Z",
     "shell.execute_reply": "2023-08-30T07:02:42.976364Z"
    },
    "papermill": {
     "duration": 0.028165,
     "end_time": "2023-08-30T07:02:42.979580",
     "exception": false,
     "start_time": "2023-08-30T07:02:42.951415",
     "status": "completed"
    },
    "tags": []
   },
   "outputs": [
    {
     "data": {
      "text/plain": [
       "array([[  0.,   1.,   1., ..., 360.,   1.,   1.],\n",
       "       [  0.,   1.,   0., ..., 360.,   0.,   2.],\n",
       "       [  0.,   1.,   1., ..., 360.,   1.,   2.],\n",
       "       ...,\n",
       "       [  0.,   1.,   2., ..., 360.,   1.,   2.],\n",
       "       [  0.,   0.,   0., ..., 360.,   1.,   0.],\n",
       "       [  0.,   0.,   0., ..., 360.,   1.,   0.]])"
      ]
     },
     "execution_count": 22,
     "metadata": {},
     "output_type": "execute_result"
    }
   ],
   "source": [
    "X"
   ]
  },
  {
   "cell_type": "code",
   "execution_count": 23,
   "id": "be77930b",
   "metadata": {
    "execution": {
     "iopub.execute_input": "2023-08-30T07:02:43.017341Z",
     "iopub.status.busy": "2023-08-30T07:02:43.016728Z",
     "iopub.status.idle": "2023-08-30T07:02:43.024563Z",
     "shell.execute_reply": "2023-08-30T07:02:43.023552Z"
    },
    "papermill": {
     "duration": 0.02872,
     "end_time": "2023-08-30T07:02:43.026535",
     "exception": false,
     "start_time": "2023-08-30T07:02:42.997815",
     "status": "completed"
    },
    "tags": []
   },
   "outputs": [
    {
     "data": {
      "text/plain": [
       "array([1, 0, 1, 1, 1, 1, 1, 1, 1, 0, 0, 1, 1, 0, 1, 1, 1, 1, 1, 0, 1, 0,\n",
       "       1, 1, 1, 1, 1, 1, 1, 0, 1, 1, 1, 0, 1, 1, 1, 1, 1, 0, 0, 0, 1, 1,\n",
       "       1, 1, 1, 1, 1, 1, 0, 0, 1, 1, 1, 0, 1, 0, 1, 1, 0, 1, 1, 0, 0, 0,\n",
       "       1, 1, 0, 0, 1, 1, 1, 1, 0, 1, 0, 1, 0, 0, 1, 1, 0, 1, 0, 1, 1, 1,\n",
       "       1, 1, 1, 1, 0, 1, 0, 1, 1, 1, 1, 1, 1, 0, 1, 0, 1, 1, 1, 1, 0, 1,\n",
       "       0, 0, 1, 1, 0, 1, 1, 1, 0, 1, 1, 1, 1, 1, 1, 1, 0, 1, 0, 0, 1, 1,\n",
       "       1, 1, 1, 1, 1, 0, 0, 0, 1, 1, 0, 1, 0, 1, 1, 0, 0, 1, 0, 1, 0, 0,\n",
       "       1, 0, 1, 1, 1, 1, 1, 1, 1, 0, 0, 1, 1, 1, 0, 1, 1, 1, 1, 1, 0, 0,\n",
       "       1, 0, 1, 1, 1, 1, 1, 1, 1, 1, 1, 0, 1, 0, 1, 1, 1, 0, 1, 1, 1, 0,\n",
       "       1, 0, 0, 0, 0, 1, 1, 1, 1, 0, 0, 0, 1, 1, 1, 1, 1, 0, 1, 0, 1, 1,\n",
       "       0, 1, 1, 1, 1, 1, 1, 1, 0, 1, 1, 0, 1, 0, 1, 1, 0, 0, 1, 1, 1, 0,\n",
       "       1, 1, 1, 1, 1, 1, 0, 0, 1, 1, 0, 1, 1, 1, 1, 1, 1, 0, 0, 1, 1, 0,\n",
       "       1, 0, 1, 0, 0, 0, 1, 0, 1, 1, 0, 1, 0, 1, 1, 0, 1, 1, 0, 1, 0, 1,\n",
       "       1, 1, 0, 1, 0, 1, 0, 1, 0, 1, 0, 0, 1, 1, 1, 1, 0, 1, 1, 1, 1, 0,\n",
       "       1, 1, 1, 1, 1, 0, 1, 0, 1, 1, 1, 1, 0, 1, 1, 1, 1, 1, 1, 0, 1, 1,\n",
       "       1, 0, 1, 1, 1, 1, 0, 0, 1, 1, 0, 1, 1, 1, 0, 0, 1, 0, 1, 1, 0, 1,\n",
       "       1, 0, 1, 0, 1, 1, 1, 1, 0, 1, 1, 1, 0, 1, 0, 1, 1, 1, 1, 0, 1, 1,\n",
       "       0, 1, 1, 1, 0, 1, 0, 1, 1, 1, 1, 1, 1, 1, 1, 1, 0, 0, 1, 1, 1, 0,\n",
       "       1, 1, 1, 1, 1, 0, 0, 0, 0, 1, 0, 1, 1, 1, 1, 1, 0, 1, 0, 0, 1, 1,\n",
       "       1, 1, 1, 1, 0, 0, 1, 0, 1, 0, 0, 1, 1, 1, 1, 1, 1, 1, 1, 1, 1, 0,\n",
       "       0, 1, 0, 1, 0, 0, 1, 1, 1, 0, 1, 1, 1, 1, 0, 1, 1, 1, 0, 1, 0, 1,\n",
       "       1, 1, 0, 1, 1, 1, 1, 1, 1, 1, 1, 1, 0, 1, 1, 1, 1, 1])"
      ]
     },
     "execution_count": 23,
     "metadata": {},
     "output_type": "execute_result"
    }
   ],
   "source": [
    "y"
   ]
  },
  {
   "cell_type": "markdown",
   "id": "b90af91d",
   "metadata": {
    "papermill": {
     "duration": 0.017784,
     "end_time": "2023-08-30T07:02:43.062535",
     "exception": false,
     "start_time": "2023-08-30T07:02:43.044751",
     "status": "completed"
    },
    "tags": []
   },
   "source": [
    "## Train Test Split"
   ]
  },
  {
   "cell_type": "code",
   "execution_count": 24,
   "id": "7695577b",
   "metadata": {
    "execution": {
     "iopub.execute_input": "2023-08-30T07:02:43.100300Z",
     "iopub.status.busy": "2023-08-30T07:02:43.099491Z",
     "iopub.status.idle": "2023-08-30T07:02:43.297532Z",
     "shell.execute_reply": "2023-08-30T07:02:43.296568Z"
    },
    "papermill": {
     "duration": 0.219807,
     "end_time": "2023-08-30T07:02:43.300337",
     "exception": false,
     "start_time": "2023-08-30T07:02:43.080530",
     "status": "completed"
    },
    "tags": []
   },
   "outputs": [],
   "source": [
    "from sklearn.model_selection import train_test_split\n",
    "X_train, X_test, y_train, y_test = train_test_split(X, y, test_size=0.2, random_state=0)"
   ]
  },
  {
   "cell_type": "code",
   "execution_count": 25,
   "id": "b77f911b",
   "metadata": {
    "execution": {
     "iopub.execute_input": "2023-08-30T07:02:43.339415Z",
     "iopub.status.busy": "2023-08-30T07:02:43.338586Z",
     "iopub.status.idle": "2023-08-30T07:02:43.345876Z",
     "shell.execute_reply": "2023-08-30T07:02:43.344794Z"
    },
    "papermill": {
     "duration": 0.028788,
     "end_time": "2023-08-30T07:02:43.347976",
     "exception": false,
     "start_time": "2023-08-30T07:02:43.319188",
     "status": "completed"
    },
    "tags": []
   },
   "outputs": [
    {
     "data": {
      "text/plain": [
       "((384, 11), (384,), (96, 11), (96,))"
      ]
     },
     "execution_count": 25,
     "metadata": {},
     "output_type": "execute_result"
    }
   ],
   "source": [
    "X_train.shape, y_train.shape, X_test.shape, y_test.shape"
   ]
  },
  {
   "cell_type": "code",
   "execution_count": 26,
   "id": "6d39a5b0",
   "metadata": {
    "execution": {
     "iopub.execute_input": "2023-08-30T07:02:43.386181Z",
     "iopub.status.busy": "2023-08-30T07:02:43.385303Z",
     "iopub.status.idle": "2023-08-30T07:02:43.392261Z",
     "shell.execute_reply": "2023-08-30T07:02:43.391175Z"
    },
    "papermill": {
     "duration": 0.028131,
     "end_time": "2023-08-30T07:02:43.394367",
     "exception": false,
     "start_time": "2023-08-30T07:02:43.366236",
     "status": "completed"
    },
    "tags": []
   },
   "outputs": [
    {
     "data": {
      "text/plain": [
       "array([[  0.,   0.,   0., ..., 360.,   0.,   1.],\n",
       "       [  0.,   1.,   4., ..., 180.,   1.,   2.],\n",
       "       [  0.,   1.,   0., ..., 360.,   1.,   2.],\n",
       "       ...,\n",
       "       [  0.,   1.,   0., ..., 360.,   1.,   0.],\n",
       "       [  0.,   0.,   0., ..., 360.,   1.,   0.],\n",
       "       [  0.,   1.,   2., ..., 300.,   1.,   0.]])"
      ]
     },
     "execution_count": 26,
     "metadata": {},
     "output_type": "execute_result"
    }
   ],
   "source": [
    "X_train"
   ]
  },
  {
   "cell_type": "markdown",
   "id": "51a927ae",
   "metadata": {
    "papermill": {
     "duration": 0.018121,
     "end_time": "2023-08-30T07:02:43.431386",
     "exception": false,
     "start_time": "2023-08-30T07:02:43.413265",
     "status": "completed"
    },
    "tags": []
   },
   "source": [
    "## Normalizing Data"
   ]
  },
  {
   "cell_type": "code",
   "execution_count": 27,
   "id": "7525dc96",
   "metadata": {
    "execution": {
     "iopub.execute_input": "2023-08-30T07:02:43.469493Z",
     "iopub.status.busy": "2023-08-30T07:02:43.469215Z",
     "iopub.status.idle": "2023-08-30T07:02:43.475630Z",
     "shell.execute_reply": "2023-08-30T07:02:43.474746Z"
    },
    "papermill": {
     "duration": 0.027671,
     "end_time": "2023-08-30T07:02:43.477687",
     "exception": false,
     "start_time": "2023-08-30T07:02:43.450016",
     "status": "completed"
    },
    "tags": []
   },
   "outputs": [],
   "source": [
    "from sklearn.preprocessing import StandardScaler\n",
    "scaler = StandardScaler()\n",
    "X_train = scaler.fit_transform(X_train)\n",
    "X_test = scaler.transform(X_test)"
   ]
  },
  {
   "cell_type": "code",
   "execution_count": 28,
   "id": "56fca77c",
   "metadata": {
    "execution": {
     "iopub.execute_input": "2023-08-30T07:02:43.524723Z",
     "iopub.status.busy": "2023-08-30T07:02:43.523790Z",
     "iopub.status.idle": "2023-08-30T07:02:43.530590Z",
     "shell.execute_reply": "2023-08-30T07:02:43.529671Z"
    },
    "papermill": {
     "duration": 0.027947,
     "end_time": "2023-08-30T07:02:43.532601",
     "exception": false,
     "start_time": "2023-08-30T07:02:43.504654",
     "status": "completed"
    },
    "tags": []
   },
   "outputs": [
    {
     "data": {
      "text/plain": [
       "array([[ 0.        , -1.35810325, -0.70931157, ...,  0.27812822,\n",
       "        -2.37079937, -0.04407438],\n",
       "       [ 0.        ,  0.73632104,  2.47636846, ..., -2.40083259,\n",
       "         0.42179866,  1.25781503],\n",
       "       [ 0.        ,  0.73632104, -0.70931157, ...,  0.27812822,\n",
       "         0.42179866,  1.25781503],\n",
       "       ...,\n",
       "       [ 0.        ,  0.73632104, -0.70931157, ...,  0.27812822,\n",
       "         0.42179866, -1.34596379],\n",
       "       [ 0.        , -1.35810325, -0.70931157, ...,  0.27812822,\n",
       "         0.42179866, -1.34596379],\n",
       "       [ 0.        ,  0.73632104,  0.88352845, ..., -0.61485871,\n",
       "         0.42179866, -1.34596379]])"
      ]
     },
     "execution_count": 28,
     "metadata": {},
     "output_type": "execute_result"
    }
   ],
   "source": [
    "X_train"
   ]
  },
  {
   "cell_type": "markdown",
   "id": "b96fc0aa",
   "metadata": {
    "papermill": {
     "duration": 0.018135,
     "end_time": "2023-08-30T07:02:43.569396",
     "exception": false,
     "start_time": "2023-08-30T07:02:43.551261",
     "status": "completed"
    },
    "tags": []
   },
   "source": [
    "## Model Building"
   ]
  },
  {
   "cell_type": "code",
   "execution_count": 29,
   "id": "51963a51",
   "metadata": {
    "execution": {
     "iopub.execute_input": "2023-08-30T07:02:43.608029Z",
     "iopub.status.busy": "2023-08-30T07:02:43.607239Z",
     "iopub.status.idle": "2023-08-30T07:02:43.612785Z",
     "shell.execute_reply": "2023-08-30T07:02:43.611944Z"
    },
    "papermill": {
     "duration": 0.027189,
     "end_time": "2023-08-30T07:02:43.614858",
     "exception": false,
     "start_time": "2023-08-30T07:02:43.587669",
     "status": "completed"
    },
    "tags": []
   },
   "outputs": [],
   "source": [
    "import os\n",
    "\n",
    "# Create a function to implement a ModelCheckpoint callback with a specific filename\n",
    "def create_model_checkpoint(model_name, save_path=\"model_experiments\"):\n",
    "  return tf.keras.callbacks.ModelCheckpoint(filepath=os.path.join(save_path, model_name), # create filepath to save model\n",
    "                                            verbose=0, # only output a limited amount of text\n",
    "                                            save_best_only=True) # save only the best model to fil"
   ]
  },
  {
   "cell_type": "code",
   "execution_count": 30,
   "id": "744b4683",
   "metadata": {
    "execution": {
     "iopub.execute_input": "2023-08-30T07:02:43.653419Z",
     "iopub.status.busy": "2023-08-30T07:02:43.652672Z",
     "iopub.status.idle": "2023-08-30T07:02:43.657484Z",
     "shell.execute_reply": "2023-08-30T07:02:43.656647Z"
    },
    "papermill": {
     "duration": 0.026095,
     "end_time": "2023-08-30T07:02:43.659477",
     "exception": false,
     "start_time": "2023-08-30T07:02:43.633382",
     "status": "completed"
    },
    "tags": []
   },
   "outputs": [],
   "source": [
    "import tensorflow as tf\n",
    "from tensorflow import keras\n",
    "from keras.models import Sequential\n",
    "from keras.layers import Dense, Dropout"
   ]
  },
  {
   "cell_type": "code",
   "execution_count": 31,
   "id": "bc16173e",
   "metadata": {
    "execution": {
     "iopub.execute_input": "2023-08-30T07:02:43.697957Z",
     "iopub.status.busy": "2023-08-30T07:02:43.697221Z",
     "iopub.status.idle": "2023-08-30T07:02:46.578845Z",
     "shell.execute_reply": "2023-08-30T07:02:46.577634Z"
    },
    "papermill": {
     "duration": 2.90335,
     "end_time": "2023-08-30T07:02:46.581324",
     "exception": false,
     "start_time": "2023-08-30T07:02:43.677974",
     "status": "completed"
    },
    "tags": []
   },
   "outputs": [],
   "source": [
    "model = Sequential()\n",
    "\n",
    "# building model\n",
    "model.add(Dense(128, activation='relu'))\n",
    "model.add(Dense(64, activation='relu'))\n",
    "model.add(Dense(32, activation='relu'))\n",
    "model.add(Dense(1, activation='sigmoid'))\n",
    "\n",
    "# compiling model\n",
    "model.compile(\n",
    "    loss=tf.keras.losses.BinaryCrossentropy(),\n",
    "    optimizer=tf.keras.optimizers.Adam(),\n",
    "    metrics=['accuracy']\n",
    ")"
   ]
  },
  {
   "cell_type": "code",
   "execution_count": 32,
   "id": "db6adf35",
   "metadata": {
    "execution": {
     "iopub.execute_input": "2023-08-30T07:02:46.621488Z",
     "iopub.status.busy": "2023-08-30T07:02:46.619893Z",
     "iopub.status.idle": "2023-08-30T07:03:08.043071Z",
     "shell.execute_reply": "2023-08-30T07:03:08.041977Z"
    },
    "papermill": {
     "duration": 21.445029,
     "end_time": "2023-08-30T07:03:08.045314",
     "exception": false,
     "start_time": "2023-08-30T07:02:46.600285",
     "status": "completed"
    },
    "tags": []
   },
   "outputs": [
    {
     "name": "stdout",
     "output_type": "stream",
     "text": [
      "Epoch 1/50\n",
      "24/24 [==============================] - 6s 52ms/step - loss: 0.6335 - accuracy: 0.6771 - val_loss: 0.5538 - val_accuracy: 0.7708\n",
      "Epoch 2/50\n",
      "24/24 [==============================] - 1s 36ms/step - loss: 0.5369 - accuracy: 0.7786 - val_loss: 0.5013 - val_accuracy: 0.8542\n",
      "Epoch 3/50\n",
      "24/24 [==============================] - 1s 36ms/step - loss: 0.4846 - accuracy: 0.8073 - val_loss: 0.4679 - val_accuracy: 0.8333\n",
      "Epoch 4/50\n",
      "24/24 [==============================] - 0s 5ms/step - loss: 0.4600 - accuracy: 0.8177 - val_loss: 0.4680 - val_accuracy: 0.8125\n",
      "Epoch 5/50\n",
      "24/24 [==============================] - 0s 5ms/step - loss: 0.4369 - accuracy: 0.8281 - val_loss: 0.4806 - val_accuracy: 0.8021\n",
      "Epoch 6/50\n",
      "24/24 [==============================] - 0s 4ms/step - loss: 0.4262 - accuracy: 0.8255 - val_loss: 0.4836 - val_accuracy: 0.8125\n",
      "Epoch 7/50\n",
      "24/24 [==============================] - 0s 4ms/step - loss: 0.4086 - accuracy: 0.8333 - val_loss: 0.4845 - val_accuracy: 0.8125\n",
      "Epoch 8/50\n",
      "24/24 [==============================] - 0s 5ms/step - loss: 0.3994 - accuracy: 0.8490 - val_loss: 0.4966 - val_accuracy: 0.8021\n",
      "Epoch 9/50\n",
      "24/24 [==============================] - 0s 5ms/step - loss: 0.3956 - accuracy: 0.8464 - val_loss: 0.5064 - val_accuracy: 0.7917\n",
      "Epoch 10/50\n",
      "24/24 [==============================] - 0s 5ms/step - loss: 0.3761 - accuracy: 0.8490 - val_loss: 0.5087 - val_accuracy: 0.7812\n",
      "Epoch 11/50\n",
      "24/24 [==============================] - 0s 5ms/step - loss: 0.3633 - accuracy: 0.8516 - val_loss: 0.5080 - val_accuracy: 0.8021\n",
      "Epoch 12/50\n",
      "24/24 [==============================] - 0s 4ms/step - loss: 0.3579 - accuracy: 0.8568 - val_loss: 0.5188 - val_accuracy: 0.7917\n",
      "Epoch 13/50\n",
      "24/24 [==============================] - 0s 4ms/step - loss: 0.3491 - accuracy: 0.8542 - val_loss: 0.5546 - val_accuracy: 0.7917\n",
      "Epoch 14/50\n",
      "24/24 [==============================] - 0s 4ms/step - loss: 0.3491 - accuracy: 0.8594 - val_loss: 0.5263 - val_accuracy: 0.7812\n",
      "Epoch 15/50\n",
      "24/24 [==============================] - 0s 4ms/step - loss: 0.3353 - accuracy: 0.8542 - val_loss: 0.5507 - val_accuracy: 0.7812\n",
      "Epoch 16/50\n",
      "24/24 [==============================] - 0s 5ms/step - loss: 0.3332 - accuracy: 0.8698 - val_loss: 0.5585 - val_accuracy: 0.7917\n",
      "Epoch 17/50\n",
      "24/24 [==============================] - 0s 5ms/step - loss: 0.3234 - accuracy: 0.8724 - val_loss: 0.5480 - val_accuracy: 0.7812\n",
      "Epoch 18/50\n",
      "24/24 [==============================] - 0s 5ms/step - loss: 0.3105 - accuracy: 0.8646 - val_loss: 0.5561 - val_accuracy: 0.7812\n",
      "Epoch 19/50\n",
      "24/24 [==============================] - 0s 4ms/step - loss: 0.3061 - accuracy: 0.8750 - val_loss: 0.5635 - val_accuracy: 0.7812\n",
      "Epoch 20/50\n",
      "24/24 [==============================] - 0s 4ms/step - loss: 0.2959 - accuracy: 0.8854 - val_loss: 0.6008 - val_accuracy: 0.7708\n",
      "Epoch 21/50\n",
      "24/24 [==============================] - 0s 5ms/step - loss: 0.2954 - accuracy: 0.8698 - val_loss: 0.6245 - val_accuracy: 0.7708\n",
      "Epoch 22/50\n",
      "24/24 [==============================] - 0s 5ms/step - loss: 0.2866 - accuracy: 0.8828 - val_loss: 0.6307 - val_accuracy: 0.7708\n",
      "Epoch 23/50\n",
      "24/24 [==============================] - 0s 5ms/step - loss: 0.2860 - accuracy: 0.8672 - val_loss: 0.5785 - val_accuracy: 0.7708\n",
      "Epoch 24/50\n",
      "24/24 [==============================] - 0s 4ms/step - loss: 0.2647 - accuracy: 0.8932 - val_loss: 0.6294 - val_accuracy: 0.7812\n",
      "Epoch 25/50\n",
      "24/24 [==============================] - 0s 5ms/step - loss: 0.2570 - accuracy: 0.8906 - val_loss: 0.6818 - val_accuracy: 0.6354\n",
      "Epoch 26/50\n",
      "24/24 [==============================] - 0s 4ms/step - loss: 0.2749 - accuracy: 0.8854 - val_loss: 0.6469 - val_accuracy: 0.7083\n",
      "Epoch 27/50\n",
      "24/24 [==============================] - 0s 4ms/step - loss: 0.2508 - accuracy: 0.8984 - val_loss: 0.6740 - val_accuracy: 0.7708\n",
      "Epoch 28/50\n",
      "24/24 [==============================] - 0s 5ms/step - loss: 0.2452 - accuracy: 0.8984 - val_loss: 0.6820 - val_accuracy: 0.7604\n",
      "Epoch 29/50\n",
      "24/24 [==============================] - 0s 4ms/step - loss: 0.2386 - accuracy: 0.8984 - val_loss: 0.6616 - val_accuracy: 0.7500\n",
      "Epoch 30/50\n",
      "24/24 [==============================] - 0s 4ms/step - loss: 0.2314 - accuracy: 0.9036 - val_loss: 0.6956 - val_accuracy: 0.7292\n",
      "Epoch 31/50\n",
      "24/24 [==============================] - 0s 4ms/step - loss: 0.2262 - accuracy: 0.9167 - val_loss: 0.6850 - val_accuracy: 0.7812\n",
      "Epoch 32/50\n",
      "24/24 [==============================] - 0s 4ms/step - loss: 0.2255 - accuracy: 0.9036 - val_loss: 0.7553 - val_accuracy: 0.7812\n",
      "Epoch 33/50\n",
      "24/24 [==============================] - 0s 4ms/step - loss: 0.2060 - accuracy: 0.9245 - val_loss: 0.7510 - val_accuracy: 0.7917\n",
      "Epoch 34/50\n",
      "24/24 [==============================] - 0s 4ms/step - loss: 0.2047 - accuracy: 0.9115 - val_loss: 0.8083 - val_accuracy: 0.7188\n",
      "Epoch 35/50\n",
      "24/24 [==============================] - 0s 4ms/step - loss: 0.2024 - accuracy: 0.9089 - val_loss: 0.7818 - val_accuracy: 0.7396\n",
      "Epoch 36/50\n",
      "24/24 [==============================] - 0s 4ms/step - loss: 0.1866 - accuracy: 0.9219 - val_loss: 0.8248 - val_accuracy: 0.7292\n",
      "Epoch 37/50\n",
      "24/24 [==============================] - 0s 4ms/step - loss: 0.1890 - accuracy: 0.9245 - val_loss: 0.8199 - val_accuracy: 0.7604\n",
      "Epoch 38/50\n",
      "24/24 [==============================] - 0s 5ms/step - loss: 0.1850 - accuracy: 0.9271 - val_loss: 0.8247 - val_accuracy: 0.7604\n",
      "Epoch 39/50\n",
      "24/24 [==============================] - 0s 4ms/step - loss: 0.1789 - accuracy: 0.9245 - val_loss: 0.8530 - val_accuracy: 0.7188\n",
      "Epoch 40/50\n",
      "24/24 [==============================] - 0s 4ms/step - loss: 0.1720 - accuracy: 0.9297 - val_loss: 0.8999 - val_accuracy: 0.7083\n",
      "Epoch 41/50\n",
      "24/24 [==============================] - 0s 5ms/step - loss: 0.1765 - accuracy: 0.9323 - val_loss: 0.8984 - val_accuracy: 0.7604\n",
      "Epoch 42/50\n",
      "24/24 [==============================] - 0s 4ms/step - loss: 0.1654 - accuracy: 0.9375 - val_loss: 0.8941 - val_accuracy: 0.7292\n",
      "Epoch 43/50\n",
      "24/24 [==============================] - 0s 5ms/step - loss: 0.1576 - accuracy: 0.9401 - val_loss: 0.9814 - val_accuracy: 0.7812\n",
      "Epoch 44/50\n",
      "24/24 [==============================] - 0s 5ms/step - loss: 0.1697 - accuracy: 0.9245 - val_loss: 0.9751 - val_accuracy: 0.7292\n",
      "Epoch 45/50\n",
      "24/24 [==============================] - 0s 4ms/step - loss: 0.1509 - accuracy: 0.9427 - val_loss: 0.9344 - val_accuracy: 0.7396\n",
      "Epoch 46/50\n",
      "24/24 [==============================] - 0s 4ms/step - loss: 0.1520 - accuracy: 0.9375 - val_loss: 1.0358 - val_accuracy: 0.7188\n",
      "Epoch 47/50\n",
      "24/24 [==============================] - 0s 5ms/step - loss: 0.1495 - accuracy: 0.9323 - val_loss: 1.0598 - val_accuracy: 0.6771\n",
      "Epoch 48/50\n",
      "24/24 [==============================] - 0s 4ms/step - loss: 0.1443 - accuracy: 0.9427 - val_loss: 1.0488 - val_accuracy: 0.6875\n",
      "Epoch 49/50\n",
      "24/24 [==============================] - 0s 5ms/step - loss: 0.1452 - accuracy: 0.9323 - val_loss: 1.1041 - val_accuracy: 0.6667\n",
      "Epoch 50/50\n",
      "24/24 [==============================] - 0s 4ms/step - loss: 0.1459 - accuracy: 0.9375 - val_loss: 1.1497 - val_accuracy: 0.6771\n"
     ]
    },
    {
     "data": {
      "text/plain": [
       "<keras.callbacks.History at 0x7c161c13b610>"
      ]
     },
     "execution_count": 32,
     "metadata": {},
     "output_type": "execute_result"
    }
   ],
   "source": [
    "model.fit(\n",
    "    X_train, y_train,\n",
    "    epochs=50,\n",
    "    batch_size=16,\n",
    "    validation_data=(X_test, y_test),\n",
    "    callbacks=[create_model_checkpoint('Dense_model')]\n",
    ")"
   ]
  },
  {
   "cell_type": "markdown",
   "id": "d5e323cd",
   "metadata": {
    "papermill": {
     "duration": 0.033648,
     "end_time": "2023-08-30T07:03:08.114890",
     "exception": false,
     "start_time": "2023-08-30T07:03:08.081242",
     "status": "completed"
    },
    "tags": []
   },
   "source": [
    "## Model Evaluation"
   ]
  },
  {
   "cell_type": "code",
   "execution_count": 33,
   "id": "4c305c53",
   "metadata": {
    "execution": {
     "iopub.execute_input": "2023-08-30T07:03:08.184571Z",
     "iopub.status.busy": "2023-08-30T07:03:08.184187Z",
     "iopub.status.idle": "2023-08-30T07:03:08.368842Z",
     "shell.execute_reply": "2023-08-30T07:03:08.367837Z"
    },
    "papermill": {
     "duration": 0.22215,
     "end_time": "2023-08-30T07:03:08.371011",
     "exception": false,
     "start_time": "2023-08-30T07:03:08.148861",
     "status": "completed"
    },
    "tags": []
   },
   "outputs": [
    {
     "name": "stdout",
     "output_type": "stream",
     "text": [
      "3/3 [==============================] - 0s 5ms/step - loss: 1.1497 - accuracy: 0.6771\n"
     ]
    },
    {
     "data": {
      "text/plain": [
       "[1.1496928930282593, 0.6770833134651184]"
      ]
     },
     "execution_count": 33,
     "metadata": {},
     "output_type": "execute_result"
    }
   ],
   "source": [
    "model.evaluate(X_test, y_test)"
   ]
  },
  {
   "cell_type": "code",
   "execution_count": 34,
   "id": "2f3ba619",
   "metadata": {
    "execution": {
     "iopub.execute_input": "2023-08-30T07:03:08.445933Z",
     "iopub.status.busy": "2023-08-30T07:03:08.444966Z",
     "iopub.status.idle": "2023-08-30T07:03:08.946040Z",
     "shell.execute_reply": "2023-08-30T07:03:08.944829Z"
    },
    "papermill": {
     "duration": 0.539533,
     "end_time": "2023-08-30T07:03:08.948210",
     "exception": false,
     "start_time": "2023-08-30T07:03:08.408677",
     "status": "completed"
    },
    "tags": []
   },
   "outputs": [
    {
     "name": "stdout",
     "output_type": "stream",
     "text": [
      "3/3 [==============================] - 0s 5ms/step - loss: 0.4679 - accuracy: 0.8333\n"
     ]
    },
    {
     "data": {
      "text/plain": [
       "[0.46794191002845764, 0.8333333134651184]"
      ]
     },
     "execution_count": 34,
     "metadata": {},
     "output_type": "execute_result"
    }
   ],
   "source": [
    "model = tf.keras.models.load_model('/kaggle/working/model_experiments/Dense_model')\n",
    "model.evaluate(X_test, y_test)"
   ]
  },
  {
   "cell_type": "code",
   "execution_count": 35,
   "id": "f17e64ad",
   "metadata": {
    "execution": {
     "iopub.execute_input": "2023-08-30T07:03:09.021460Z",
     "iopub.status.busy": "2023-08-30T07:03:09.021109Z",
     "iopub.status.idle": "2023-08-30T07:03:09.211484Z",
     "shell.execute_reply": "2023-08-30T07:03:09.210547Z"
    },
    "papermill": {
     "duration": 0.228549,
     "end_time": "2023-08-30T07:03:09.213893",
     "exception": false,
     "start_time": "2023-08-30T07:03:08.985344",
     "status": "completed"
    },
    "tags": []
   },
   "outputs": [
    {
     "name": "stdout",
     "output_type": "stream",
     "text": [
      "3/3 [==============================] - 0s 3ms/step\n"
     ]
    }
   ],
   "source": [
    "y_preds = tf.round(model.predict(X_test))"
   ]
  },
  {
   "cell_type": "code",
   "execution_count": 36,
   "id": "4a3c5c17",
   "metadata": {
    "execution": {
     "iopub.execute_input": "2023-08-30T07:03:09.285415Z",
     "iopub.status.busy": "2023-08-30T07:03:09.285087Z",
     "iopub.status.idle": "2023-08-30T07:03:09.290814Z",
     "shell.execute_reply": "2023-08-30T07:03:09.289953Z"
    },
    "papermill": {
     "duration": 0.043742,
     "end_time": "2023-08-30T07:03:09.292952",
     "exception": false,
     "start_time": "2023-08-30T07:03:09.249210",
     "status": "completed"
    },
    "tags": []
   },
   "outputs": [],
   "source": [
    "y_preds = tf.squeeze(y_preds)"
   ]
  },
  {
   "cell_type": "code",
   "execution_count": 37,
   "id": "104b8954",
   "metadata": {
    "execution": {
     "iopub.execute_input": "2023-08-30T07:03:09.363273Z",
     "iopub.status.busy": "2023-08-30T07:03:09.362984Z",
     "iopub.status.idle": "2023-08-30T07:03:09.369163Z",
     "shell.execute_reply": "2023-08-30T07:03:09.368193Z"
    },
    "papermill": {
     "duration": 0.043804,
     "end_time": "2023-08-30T07:03:09.371244",
     "exception": false,
     "start_time": "2023-08-30T07:03:09.327440",
     "status": "completed"
    },
    "tags": []
   },
   "outputs": [
    {
     "data": {
      "text/plain": [
       "(TensorShape([96]), (96,))"
      ]
     },
     "execution_count": 37,
     "metadata": {},
     "output_type": "execute_result"
    }
   ],
   "source": [
    "y_preds.shape, y_test.shape"
   ]
  },
  {
   "cell_type": "code",
   "execution_count": 38,
   "id": "1faf8f21",
   "metadata": {
    "execution": {
     "iopub.execute_input": "2023-08-30T07:03:09.441826Z",
     "iopub.status.busy": "2023-08-30T07:03:09.441558Z",
     "iopub.status.idle": "2023-08-30T07:03:09.458202Z",
     "shell.execute_reply": "2023-08-30T07:03:09.457320Z"
    },
    "papermill": {
     "duration": 0.054961,
     "end_time": "2023-08-30T07:03:09.460836",
     "exception": false,
     "start_time": "2023-08-30T07:03:09.405875",
     "status": "completed"
    },
    "tags": []
   },
   "outputs": [
    {
     "name": "stdout",
     "output_type": "stream",
     "text": [
      "Accuracy : 0.8333333333333334\n",
      "Precision : 0.8414634146341463\n",
      "Recall : 0.9583333333333334\n",
      "F1 : 0.8961038961038961\n",
      "Confusion Matrix : \n",
      "[[11 13]\n",
      " [ 3 69]]\n"
     ]
    }
   ],
   "source": [
    "from sklearn.metrics import confusion_matrix, accuracy_score, f1_score, recall_score, precision_score\n",
    "print(f'Accuracy : {accuracy_score(y_test, y_preds)}')\n",
    "print(f'Precision : {precision_score(y_test, y_preds)}')\n",
    "print(f'Recall : {recall_score(y_test, y_preds)}')\n",
    "print(f'F1 : {f1_score(y_test, y_preds)}')\n",
    "print(f'Confusion Matrix : \\n{confusion_matrix(y_test, y_preds)}')"
   ]
  },
  {
   "cell_type": "code",
   "execution_count": 39,
   "id": "48d549e3",
   "metadata": {
    "execution": {
     "iopub.execute_input": "2023-08-30T07:03:09.531792Z",
     "iopub.status.busy": "2023-08-30T07:03:09.531034Z",
     "iopub.status.idle": "2023-08-30T07:03:09.547067Z",
     "shell.execute_reply": "2023-08-30T07:03:09.546120Z"
    },
    "papermill": {
     "duration": 0.05365,
     "end_time": "2023-08-30T07:03:09.549083",
     "exception": false,
     "start_time": "2023-08-30T07:03:09.495433",
     "status": "completed"
    },
    "tags": []
   },
   "outputs": [
    {
     "data": {
      "text/html": [
       "<div>\n",
       "<style scoped>\n",
       "    .dataframe tbody tr th:only-of-type {\n",
       "        vertical-align: middle;\n",
       "    }\n",
       "\n",
       "    .dataframe tbody tr th {\n",
       "        vertical-align: top;\n",
       "    }\n",
       "\n",
       "    .dataframe thead th {\n",
       "        text-align: right;\n",
       "    }\n",
       "</style>\n",
       "<table border=\"1\" class=\"dataframe\">\n",
       "  <thead>\n",
       "    <tr style=\"text-align: right;\">\n",
       "      <th></th>\n",
       "      <th>Loan_ID</th>\n",
       "      <th>Gender</th>\n",
       "      <th>Married</th>\n",
       "      <th>Dependents</th>\n",
       "      <th>Education</th>\n",
       "      <th>Self_Employed</th>\n",
       "      <th>ApplicantIncome</th>\n",
       "      <th>CoapplicantIncome</th>\n",
       "      <th>LoanAmount</th>\n",
       "      <th>Loan_Amount_Term</th>\n",
       "      <th>Credit_History</th>\n",
       "      <th>Property_Area</th>\n",
       "      <th>Loan_Status</th>\n",
       "    </tr>\n",
       "  </thead>\n",
       "  <tbody>\n",
       "    <tr>\n",
       "      <th>606</th>\n",
       "      <td>LP002961</td>\n",
       "      <td>0</td>\n",
       "      <td>1</td>\n",
       "      <td>1</td>\n",
       "      <td>1</td>\n",
       "      <td>0</td>\n",
       "      <td>3400</td>\n",
       "      <td>2500.0</td>\n",
       "      <td>173.0</td>\n",
       "      <td>360.0</td>\n",
       "      <td>1.0</td>\n",
       "      <td>1</td>\n",
       "      <td>1</td>\n",
       "    </tr>\n",
       "    <tr>\n",
       "      <th>300</th>\n",
       "      <td>LP001964</td>\n",
       "      <td>0</td>\n",
       "      <td>1</td>\n",
       "      <td>0</td>\n",
       "      <td>0</td>\n",
       "      <td>0</td>\n",
       "      <td>1800</td>\n",
       "      <td>2934.0</td>\n",
       "      <td>93.0</td>\n",
       "      <td>360.0</td>\n",
       "      <td>0.0</td>\n",
       "      <td>2</td>\n",
       "      <td>0</td>\n",
       "    </tr>\n",
       "    <tr>\n",
       "      <th>303</th>\n",
       "      <td>LP001977</td>\n",
       "      <td>0</td>\n",
       "      <td>1</td>\n",
       "      <td>1</td>\n",
       "      <td>1</td>\n",
       "      <td>0</td>\n",
       "      <td>1625</td>\n",
       "      <td>1803.0</td>\n",
       "      <td>96.0</td>\n",
       "      <td>360.0</td>\n",
       "      <td>1.0</td>\n",
       "      <td>2</td>\n",
       "      <td>1</td>\n",
       "    </tr>\n",
       "    <tr>\n",
       "      <th>306</th>\n",
       "      <td>LP001993</td>\n",
       "      <td>0</td>\n",
       "      <td>0</td>\n",
       "      <td>0</td>\n",
       "      <td>1</td>\n",
       "      <td>0</td>\n",
       "      <td>3762</td>\n",
       "      <td>1666.0</td>\n",
       "      <td>135.0</td>\n",
       "      <td>360.0</td>\n",
       "      <td>1.0</td>\n",
       "      <td>0</td>\n",
       "      <td>1</td>\n",
       "    </tr>\n",
       "    <tr>\n",
       "      <th>375</th>\n",
       "      <td>LP002211</td>\n",
       "      <td>0</td>\n",
       "      <td>1</td>\n",
       "      <td>0</td>\n",
       "      <td>1</td>\n",
       "      <td>0</td>\n",
       "      <td>4817</td>\n",
       "      <td>923.0</td>\n",
       "      <td>120.0</td>\n",
       "      <td>180.0</td>\n",
       "      <td>1.0</td>\n",
       "      <td>2</td>\n",
       "      <td>1</td>\n",
       "    </tr>\n",
       "  </tbody>\n",
       "</table>\n",
       "</div>"
      ],
      "text/plain": [
       "      Loan_ID  Gender  Married  Dependents  Education  Self_Employed  \\\n",
       "606  LP002961       0        1           1          1              0   \n",
       "300  LP001964       0        1           0          0              0   \n",
       "303  LP001977       0        1           1          1              0   \n",
       "306  LP001993       0        0           0          1              0   \n",
       "375  LP002211       0        1           0          1              0   \n",
       "\n",
       "     ApplicantIncome  CoapplicantIncome  LoanAmount  Loan_Amount_Term  \\\n",
       "606             3400             2500.0       173.0             360.0   \n",
       "300             1800             2934.0        93.0             360.0   \n",
       "303             1625             1803.0        96.0             360.0   \n",
       "306             3762             1666.0       135.0             360.0   \n",
       "375             4817              923.0       120.0             180.0   \n",
       "\n",
       "     Credit_History  Property_Area  Loan_Status  \n",
       "606             1.0              1            1  \n",
       "300             0.0              2            0  \n",
       "303             1.0              2            1  \n",
       "306             1.0              0            1  \n",
       "375             1.0              2            1  "
      ]
     },
     "execution_count": 39,
     "metadata": {},
     "output_type": "execute_result"
    }
   ],
   "source": [
    "df.head()"
   ]
  },
  {
   "cell_type": "code",
   "execution_count": 40,
   "id": "3abe8e10",
   "metadata": {
    "execution": {
     "iopub.execute_input": "2023-08-30T07:03:09.620228Z",
     "iopub.status.busy": "2023-08-30T07:03:09.619877Z",
     "iopub.status.idle": "2023-08-30T07:03:09.626120Z",
     "shell.execute_reply": "2023-08-30T07:03:09.625239Z"
    },
    "papermill": {
     "duration": 0.043859,
     "end_time": "2023-08-30T07:03:09.628217",
     "exception": false,
     "start_time": "2023-08-30T07:03:09.584358",
     "status": "completed"
    },
    "tags": []
   },
   "outputs": [
    {
     "data": {
      "text/plain": [
       "array([0.00e+00, 1.00e+00, 1.00e+00, 1.00e+00, 0.00e+00, 3.40e+03,\n",
       "       2.50e+03, 1.73e+02, 3.60e+02, 1.00e+00, 1.00e+00])"
      ]
     },
     "execution_count": 40,
     "metadata": {},
     "output_type": "execute_result"
    }
   ],
   "source": [
    "X[0]"
   ]
  },
  {
   "cell_type": "code",
   "execution_count": 41,
   "id": "a532185e",
   "metadata": {
    "execution": {
     "iopub.execute_input": "2023-08-30T07:03:09.710514Z",
     "iopub.status.busy": "2023-08-30T07:03:09.709677Z",
     "iopub.status.idle": "2023-08-30T07:03:09.872246Z",
     "shell.execute_reply": "2023-08-30T07:03:09.870792Z"
    },
    "papermill": {
     "duration": 0.211564,
     "end_time": "2023-08-30T07:03:09.875550",
     "exception": false,
     "start_time": "2023-08-30T07:03:09.663986",
     "status": "completed"
    },
    "tags": []
   },
   "outputs": [
    {
     "name": "stdout",
     "output_type": "stream",
     "text": [
      "1/1 [==============================] - 0s 92ms/step\n"
     ]
    },
    {
     "data": {
      "text/plain": [
       "array([[1.]], dtype=float32)"
      ]
     },
     "execution_count": 41,
     "metadata": {},
     "output_type": "execute_result"
    }
   ],
   "source": [
    "tf.round(model.predict(scaler.transform([[1, 1, 0, 1, 0, 5815, 1644, 600, 120, 1, 2]]))).numpy()"
   ]
  },
  {
   "cell_type": "markdown",
   "id": "b3851e74",
   "metadata": {
    "papermill": {
     "duration": 0.042591,
     "end_time": "2023-08-30T07:03:09.955937",
     "exception": false,
     "start_time": "2023-08-30T07:03:09.913346",
     "status": "completed"
    },
    "tags": []
   },
   "source": [
    "## Saving our model"
   ]
  },
  {
   "cell_type": "code",
   "execution_count": 42,
   "id": "18eb6c26",
   "metadata": {
    "execution": {
     "iopub.execute_input": "2023-08-30T07:03:10.028428Z",
     "iopub.status.busy": "2023-08-30T07:03:10.028097Z",
     "iopub.status.idle": "2023-08-30T07:03:10.048210Z",
     "shell.execute_reply": "2023-08-30T07:03:10.047303Z"
    },
    "papermill": {
     "duration": 0.058882,
     "end_time": "2023-08-30T07:03:10.050310",
     "exception": false,
     "start_time": "2023-08-30T07:03:09.991428",
     "status": "completed"
    },
    "tags": []
   },
   "outputs": [],
   "source": [
    "model.save('Loan_Approval_model.h5')"
   ]
  }
 ],
 "kernelspec": {
  "display_name": "Python 3",
  "language": "python",
  "name": "python3"
 },
 "language_info": {
  "codemirror_mode": {
   "name": "ipython",
   "version": 3
  },
  "file_extension": ".py",
  "mimetype": "text/x-python",
  "name": "python",
  "nbconvert_exporter": "python",
  "pygments_lexer": "ipython3",
  "version": "3.6.4"
 },
 "metadata": {
  "kernelspec": {
   "display_name": "Python 3",
   "language": "python",
   "name": "python3"
  },
  "language_info": {
   "codemirror_mode": {
    "name": "ipython",
    "version": 3
   },
   "file_extension": ".py",
   "mimetype": "text/x-python",
   "name": "python",
   "nbconvert_exporter": "python",
   "pygments_lexer": "ipython3",
   "version": "3.10.12"
  },
  "papermill": {
   "default_parameters": {},
   "duration": 51.73171,
   "end_time": "2023-08-30T07:03:13.468021",
   "environment_variables": {},
   "exception": null,
   "input_path": "__notebook__.ipynb",
   "output_path": "__notebook__.ipynb",
   "parameters": {},
   "start_time": "2023-08-30T07:02:21.736311",
   "version": "2.4.0"
  }
 },
 "nbformat": 4,
 "nbformat_minor": 5
}
